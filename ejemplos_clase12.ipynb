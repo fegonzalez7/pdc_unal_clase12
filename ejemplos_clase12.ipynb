{
 "cells": [
  {
   "cell_type": "markdown",
   "metadata": {},
   "source": [
    "**Ejemplo 1:** Fractorial. Crear un programa que permita calcular el factorial de un número n entero positvo dado."
   ]
  },
  {
   "cell_type": "code",
   "execution_count": 3,
   "metadata": {},
   "outputs": [
    {
     "name": "stdout",
     "output_type": "stream",
     "text": [
      "1\n",
      "2\n",
      "6\n",
      "24\n",
      "120\n",
      "720\n",
      "5040\n",
      "40320\n",
      "362880\n",
      "3628800\n",
      "El factorial de 10 es 3628800\n"
     ]
    }
   ],
   "source": [
    "def factorial(n : int )-> int:\n",
    "  i : int = 1\n",
    "  fact : int = 1\n",
    "  while(i <= n):\n",
    "    fact *= i\n",
    "    i += 1\n",
    "    print(fact)\n",
    "  return fact\n",
    "\n",
    "if __name__ == \"__main__\":\n",
    "  num = int(input(\"Ingrese numero: \"))\n",
    "  factorialDeNum = factorial(num)\n",
    "  print(\"El factorial de \" + str(num) + \" es \" + str(factorialDeNum))"
   ]
  },
  {
   "cell_type": "code",
   "execution_count": 1,
   "metadata": {},
   "outputs": [
    {
     "name": "stdout",
     "output_type": "stream",
     "text": [
      "5\n",
      "4\n",
      "3\n",
      "2\n",
      "1\n",
      "El factorial de 5 es 120\n"
     ]
    }
   ],
   "source": [
    "def factorialRecursivo(n : int )-> int:\n",
    "  print(n)\n",
    "  # Caso base \n",
    "  if n == 1: \n",
    "    return 1\n",
    "  else:\n",
    "    # Condicion de la funcion recursiva\n",
    "    return n*factorialRecursivo(n-1)\n",
    "\n",
    "if __name__ == \"__main__\":\n",
    "  num = int(input(\"Ingrese numero: \"))\n",
    "  factorialDeNum = factorialRecursivo(num)\n",
    "  print(\"El factorial de \" + str(num) + \" es \" + str(factorialDeNum))"
   ]
  },
  {
   "cell_type": "markdown",
   "metadata": {},
   "source": [
    "**Ejemplo 2:** Fibonacci. Crear un programa que permita calcular la secuencia de Fibonacci hasta número n entero positvo dado."
   ]
  },
  {
   "cell_type": "code",
   "execution_count": 57,
   "metadata": {},
   "outputs": [
    {
     "name": "stdout",
     "output_type": "stream",
     "text": [
      "1\n",
      "2\n",
      "3\n",
      "5\n",
      "8\n",
      "13\n",
      "21\n",
      "34\n",
      "55\n",
      "89\n",
      "144\n",
      "233\n",
      "377\n",
      "610\n",
      "987\n",
      "1597\n",
      "2584\n",
      "4181\n",
      "6765\n",
      "10946\n",
      "17711\n",
      "28657\n",
      "46368\n",
      "75025\n",
      "121393\n",
      "196418\n",
      "317811\n",
      "514229\n",
      "832040\n",
      "1346269\n",
      "2178309\n",
      "3524578\n",
      "5702887\n",
      "9227465\n",
      "14930352\n",
      "24157817\n",
      "39088169\n",
      "63245986\n",
      "102334155\n",
      "165580141\n",
      "267914296\n",
      "433494437\n",
      "701408733\n",
      "1134903170\n",
      "1836311903\n",
      "2971215073\n",
      "4807526976\n",
      "7778742049\n",
      "12586269025\n",
      "20365011074\n",
      "La serie de Fibonacci hasta 50 es 20365011074\n"
     ]
    }
   ],
   "source": [
    "def fibo(n : int )-> int:\n",
    "  i : int = 1\n",
    "  # caso base\n",
    "  n1 : int = 0\n",
    "  n2 : int = 1\n",
    "  while(i <= n):\n",
    "    # Condicion\n",
    "    sumFibo = n1 + n2\n",
    "    print(sumFibo)\n",
    "    # Actualizacion\n",
    "    n1 = n2\n",
    "    n2 = sumFibo\n",
    "    i += 1\n",
    "  return sumFibo\n",
    "\n",
    "if __name__ == \"__main__\":\n",
    "  num = int(input(\"Ingrese numero: \"))\n",
    "  serieFibo = fibo(num)\n",
    "  print(\"La serie de Fibonacci hasta \" + str(num) + \" es \" + str(serieFibo))"
   ]
  },
  {
   "cell_type": "code",
   "execution_count": 58,
   "metadata": {},
   "outputs": [
    {
     "ename": "KeyboardInterrupt",
     "evalue": "",
     "output_type": "error",
     "traceback": [
      "\u001b[1;31m---------------------------------------------------------------------------\u001b[0m",
      "\u001b[1;31mKeyboardInterrupt\u001b[0m                         Traceback (most recent call last)",
      "Cell \u001b[1;32mIn[58], line 14\u001b[0m\n\u001b[0;32m     12\u001b[0m \u001b[38;5;28;01mif\u001b[39;00m \u001b[38;5;18m__name__\u001b[39m \u001b[38;5;241m==\u001b[39m \u001b[38;5;124m\"\u001b[39m\u001b[38;5;124m__main__\u001b[39m\u001b[38;5;124m\"\u001b[39m:\n\u001b[0;32m     13\u001b[0m   num \u001b[38;5;241m=\u001b[39m \u001b[38;5;28mint\u001b[39m(\u001b[38;5;28minput\u001b[39m(\u001b[38;5;124m\"\u001b[39m\u001b[38;5;124mIngrese numero: \u001b[39m\u001b[38;5;124m\"\u001b[39m))\n\u001b[1;32m---> 14\u001b[0m   serieFibo \u001b[38;5;241m=\u001b[39m \u001b[43mfiboRecursivo\u001b[49m\u001b[43m(\u001b[49m\u001b[43mnum\u001b[49m\u001b[43m)\u001b[49m\n\u001b[0;32m     15\u001b[0m   \u001b[38;5;28mprint\u001b[39m(\u001b[38;5;124m\"\u001b[39m\u001b[38;5;124mLa serie de Fibonacci hasta \u001b[39m\u001b[38;5;124m\"\u001b[39m \u001b[38;5;241m+\u001b[39m \u001b[38;5;28mstr\u001b[39m(num) \u001b[38;5;241m+\u001b[39m \u001b[38;5;124m\"\u001b[39m\u001b[38;5;124m es \u001b[39m\u001b[38;5;124m\"\u001b[39m \u001b[38;5;241m+\u001b[39m \u001b[38;5;28mstr\u001b[39m(serieFibo))\n\u001b[0;32m     16\u001b[0m   \u001b[38;5;28mprint\u001b[39m(calls)\n",
      "Cell \u001b[1;32mIn[58], line 10\u001b[0m, in \u001b[0;36mfiboRecursivo\u001b[1;34m(n)\u001b[0m\n\u001b[0;32m      8\u001b[0m calls \u001b[38;5;241m+\u001b[39m\u001b[38;5;241m=\u001b[39m \u001b[38;5;241m1\u001b[39m\n\u001b[0;32m      9\u001b[0m \u001b[38;5;66;03m# condicion\u001b[39;00m\n\u001b[1;32m---> 10\u001b[0m \u001b[38;5;28;01mreturn\u001b[39;00m \u001b[43mfiboRecursivo\u001b[49m\u001b[43m(\u001b[49m\u001b[43mn\u001b[49m\u001b[38;5;241;43m-\u001b[39;49m\u001b[38;5;241;43m1\u001b[39;49m\u001b[43m)\u001b[49m\u001b[38;5;241m+\u001b[39mfiboRecursivo(n\u001b[38;5;241m-\u001b[39m\u001b[38;5;241m2\u001b[39m)\n",
      "Cell \u001b[1;32mIn[58], line 10\u001b[0m, in \u001b[0;36mfiboRecursivo\u001b[1;34m(n)\u001b[0m\n\u001b[0;32m      8\u001b[0m calls \u001b[38;5;241m+\u001b[39m\u001b[38;5;241m=\u001b[39m \u001b[38;5;241m1\u001b[39m\n\u001b[0;32m      9\u001b[0m \u001b[38;5;66;03m# condicion\u001b[39;00m\n\u001b[1;32m---> 10\u001b[0m \u001b[38;5;28;01mreturn\u001b[39;00m \u001b[43mfiboRecursivo\u001b[49m\u001b[43m(\u001b[49m\u001b[43mn\u001b[49m\u001b[38;5;241;43m-\u001b[39;49m\u001b[38;5;241;43m1\u001b[39;49m\u001b[43m)\u001b[49m\u001b[38;5;241m+\u001b[39mfiboRecursivo(n\u001b[38;5;241m-\u001b[39m\u001b[38;5;241m2\u001b[39m)\n",
      "    \u001b[1;31m[... skipping similar frames: fiboRecursivo at line 10 (34 times)]\u001b[0m\n",
      "Cell \u001b[1;32mIn[58], line 10\u001b[0m, in \u001b[0;36mfiboRecursivo\u001b[1;34m(n)\u001b[0m\n\u001b[0;32m      8\u001b[0m calls \u001b[38;5;241m+\u001b[39m\u001b[38;5;241m=\u001b[39m \u001b[38;5;241m1\u001b[39m\n\u001b[0;32m      9\u001b[0m \u001b[38;5;66;03m# condicion\u001b[39;00m\n\u001b[1;32m---> 10\u001b[0m \u001b[38;5;28;01mreturn\u001b[39;00m fiboRecursivo(n\u001b[38;5;241m-\u001b[39m\u001b[38;5;241m1\u001b[39m)\u001b[38;5;241m+\u001b[39m\u001b[43mfiboRecursivo\u001b[49m\u001b[43m(\u001b[49m\u001b[43mn\u001b[49m\u001b[38;5;241;43m-\u001b[39;49m\u001b[38;5;241;43m2\u001b[39;49m\u001b[43m)\u001b[49m\n",
      "\u001b[1;31mKeyboardInterrupt\u001b[0m: "
     ]
    }
   ],
   "source": [
    "calls = 0\n",
    "def fiboRecursivo(n : int )-> int:\n",
    "  global calls\n",
    "  if n < 2:\n",
    "    # caso base\n",
    "    return 1\n",
    "  else:\n",
    "    calls += 1\n",
    "    # condicion\n",
    "    return fiboRecursivo(n-1)+fiboRecursivo(n-2)  \n",
    "\n",
    "if __name__ == \"__main__\":\n",
    "  num = int(input(\"Ingrese numero: \"))\n",
    "  serieFibo = fiboRecursivo(num)\n",
    "  print(\"La serie de Fibonacci hasta \" + str(num) + \" es \" + str(serieFibo))\n",
    "  print(calls)\n"
   ]
  },
  {
   "cell_type": "markdown",
   "metadata": {},
   "source": [
    "**Ejercicio 1:** Cree una función que permita calcular el Máximo Comun Divisor de dos números dados (a y b)."
   ]
  },
  {
   "cell_type": "code",
   "execution_count": 37,
   "metadata": {},
   "outputs": [
    {
     "name": "stdout",
     "output_type": "stream",
     "text": [
      "1\n",
      "5\n",
      "MCD de (10, 15) es 5\n"
     ]
    }
   ],
   "source": [
    "def gcd(a,b):\n",
    "  if a >= b : \n",
    "    mayor = a \n",
    "    menor = b\n",
    "  else: \n",
    "    mayor = b\n",
    "    menor = a\n",
    "  i = 1 \n",
    "  mcd = i\n",
    "  while i < mayor//2+1 and i <= menor:\n",
    "    if (a%i==0 and b%i==0): \n",
    "      mcd = i\n",
    "    i += 1\n",
    "  return mcd\n",
    "\n",
    "if __name__ == \"__main__\":\n",
    "  a = int(input(\"Ingrese numero: \"))\n",
    "  b = int(input(\"Ingrese numero: \"))\n",
    "  mcd_ab = gcd(a,b)\n",
    "  print(\"MCD de \" + \"(\" + str(a) + \", \" + str(b) + \") es \" + str(mcd_ab))"
   ]
  },
  {
   "cell_type": "code",
   "execution_count": 36,
   "metadata": {},
   "outputs": [
    {
     "name": "stdout",
     "output_type": "stream",
     "text": [
      "MCD de (10, 50) es 10\n"
     ]
    }
   ],
   "source": [
    "def gcd(a, b):\n",
    "  if (b == 0):\n",
    "    return a\n",
    "  else:\n",
    "    return gcd(b, a % b)\n",
    "\n",
    "if __name__ == \"__main__\":\n",
    "  a = int(input(\"Ingrese numero: \"))\n",
    "  b = int(input(\"Ingrese numero: \"))\n",
    "  mcd_ab = gcd(a,b)\n",
    "  print(\"MCD de \" + \"(\" + str(a) + \", \" + str(b) + \") es \" + str(mcd_ab))\n"
   ]
  },
  {
   "cell_type": "markdown",
   "metadata": {},
   "source": [
    "**Ejemplo 3:** Función para sumar dos números."
   ]
  },
  {
   "cell_type": "code",
   "execution_count": 61,
   "metadata": {},
   "outputs": [
    {
     "name": "stdout",
     "output_type": "stream",
     "text": [
      "La suma de 10 y 12 es 22\n"
     ]
    }
   ],
   "source": [
    "# Asignando la función a una variable\n",
    "if __name__ == \"__main__\":\n",
    "  a = int(input(\"Ingrese numero a: \"))\n",
    "  b = int(input(\"Ingrese numero b: \"))\n",
    "  sumaFuncion = lambda a, b: a + b\n",
    "  suma = sumaFuncion(a, b)\n",
    "  print(\"La suma de \" + str(a) + \" y \" + str(b) + \" es \" + str(suma))"
   ]
  },
  {
   "cell_type": "code",
   "execution_count": 62,
   "metadata": {},
   "outputs": [
    {
     "name": "stdout",
     "output_type": "stream",
     "text": [
      "La suma de 10 y 12 es 22\n"
     ]
    }
   ],
   "source": [
    "# Llamando la función y asignando el resultado\n",
    "if __name__ == \"__main__\":\n",
    "  a = int(input(\"Ingrese numero a: \"))\n",
    "  b = int(input(\"Ingrese numero b: \"))\n",
    "  suma = (lambda x, y: x + y)(a,b)\n",
    "  print(\"La suma de \" + str(a) + \" y \" + str(b) + \" es \" + str(suma))"
   ]
  },
  {
   "cell_type": "markdown",
   "metadata": {},
   "source": [
    "**Ejemplo 4:** Función para sumar dos números con un argumento por defecto."
   ]
  },
  {
   "cell_type": "code",
   "execution_count": 63,
   "metadata": {},
   "outputs": [
    {
     "name": "stdout",
     "output_type": "stream",
     "text": [
      "La suma de 10 y 10 es 20\n",
      "La suma de 10 y 12 es 22\n"
     ]
    }
   ],
   "source": [
    "def sumarDosNumeros(a : int, b : int = 10)-> int:\n",
    "  return a + b\n",
    "\n",
    "if __name__ == \"__main__\":\n",
    "  a = int(input(\"Ingrese numero a: \"))\n",
    "  b = int(input(\"Ingrese numero b: \"))\n",
    "  suma = sumarDosNumeros(a)\n",
    "  print(\"La suma de \" + str(a) + \" y \" + str(10) + \" es \" + str(suma))\n",
    "  suma = sumarDosNumeros(a, b)\n",
    "  print(\"La suma de \" + str(a) + \" y \" + str(b) + \" es \" + str(suma))"
   ]
  },
  {
   "cell_type": "markdown",
   "metadata": {},
   "source": [
    "**Ejemplo 5:** Función para sumar n números."
   ]
  },
  {
   "cell_type": "code",
   "execution_count": 64,
   "metadata": {},
   "outputs": [
    {
     "name": "stdout",
     "output_type": "stream",
     "text": [
      "La suma de dos 3\n",
      "La suma de tres 6\n",
      "La suma de cuatro 10\n",
      "La suma de cinco 15\n"
     ]
    }
   ],
   "source": [
    "def sumarNumeros(*args)-> int:\n",
    "  suma : int = 0\n",
    "  for num in args:\n",
    "    suma +=  num\n",
    "  return suma\n",
    "\n",
    "if __name__ == \"__main__\":\n",
    "  a = int(input(\"Ingrese numero a: \"))\n",
    "  b = int(input(\"Ingrese numero b: \"))\n",
    "  c = int(input(\"Ingrese numero c: \"))\n",
    "  d = int(input(\"Ingrese numero d: \"))\n",
    "  e = int(input(\"Ingrese numero e: \"))\n",
    "  print(\"La suma de dos \" + str(sumarNumeros(a, b)))\n",
    "  print(\"La suma de tres \" + str(sumarNumeros(a, b, c)))\n",
    "  print(\"La suma de cuatro \" + str(sumarNumeros(a, b, c, d)))\n",
    "  print(\"La suma de cinco \" + str(sumarNumeros(a, b, c, d, e)))"
   ]
  }
 ],
 "metadata": {
  "kernelspec": {
   "display_name": "Python 3.10.10 64-bit",
   "language": "python",
   "name": "python3"
  },
  "language_info": {
   "codemirror_mode": {
    "name": "ipython",
    "version": 3
   },
   "file_extension": ".py",
   "mimetype": "text/x-python",
   "name": "python",
   "nbconvert_exporter": "python",
   "pygments_lexer": "ipython3",
   "version": "3.10.10"
  },
  "orig_nbformat": 4,
  "vscode": {
   "interpreter": {
    "hash": "26de051ba29f2982a8de78e945f0abaf191376122a1563185a90213a26c5da77"
   }
  }
 },
 "nbformat": 4,
 "nbformat_minor": 2
}
